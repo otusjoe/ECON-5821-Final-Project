{
 "cells": [
  {
   "cell_type": "code",
   "execution_count": 1,
   "metadata": {
    "vscode": {
     "languageId": "r"
    }
   },
   "outputs": [
    {
     "name": "stderr",
     "output_type": "stream",
     "text": [
      "Warning message:\n",
      "\"package 'glmnet' was built under R version 4.3.2\"\n",
      "Loading required package: Matrix\n",
      "\n",
      "Warning message:\n",
      "\"package 'Matrix' was built under R version 4.3.2\"\n",
      "Loaded glmnet 4.1-8\n",
      "\n"
     ]
    }
   ],
   "source": [
    "library(glmnet)"
   ]
  },
  {
   "cell_type": "code",
   "execution_count": 2,
   "metadata": {
    "vscode": {
     "languageId": "r"
    }
   },
   "outputs": [
    {
     "data": {
      "text/html": [
       "<table class=\"dataframe\">\n",
       "<caption>A data.frame: 6 × 783</caption>\n",
       "<thead>\n",
       "\t<tr><th></th><th scope=col>month</th><th scope=col>X1</th><th scope=col>X2</th><th scope=col>X3</th><th scope=col>X4</th><th scope=col>X5</th><th scope=col>X6</th><th scope=col>X7</th><th scope=col>X8</th><th scope=col>X9</th><th scope=col>⋯</th><th scope=col>X.40</th><th scope=col>X.41</th><th scope=col>X.42</th><th scope=col>X.43</th><th scope=col>X.44</th><th scope=col>X.45</th><th scope=col>X.46</th><th scope=col>X.47</th><th scope=col>X.48</th><th scope=col>X.49</th></tr>\n",
       "\t<tr><th></th><th scope=col>&lt;chr&gt;</th><th scope=col>&lt;dbl&gt;</th><th scope=col>&lt;dbl&gt;</th><th scope=col>&lt;dbl&gt;</th><th scope=col>&lt;dbl&gt;</th><th scope=col>&lt;dbl&gt;</th><th scope=col>&lt;dbl&gt;</th><th scope=col>&lt;dbl&gt;</th><th scope=col>&lt;dbl&gt;</th><th scope=col>&lt;dbl&gt;</th><th scope=col>⋯</th><th scope=col>&lt;lgl&gt;</th><th scope=col>&lt;lgl&gt;</th><th scope=col>&lt;lgl&gt;</th><th scope=col>&lt;lgl&gt;</th><th scope=col>&lt;lgl&gt;</th><th scope=col>&lt;lgl&gt;</th><th scope=col>&lt;lgl&gt;</th><th scope=col>&lt;lgl&gt;</th><th scope=col>&lt;lgl&gt;</th><th scope=col>&lt;lgl&gt;</th></tr>\n",
       "</thead>\n",
       "<tbody>\n",
       "\t<tr><th scope=row>1</th><td>            Personal consumption expenditures</td><td>15.164</td><td>15.179</td><td>15.189</td><td>15.219</td><td>15.227</td><td>15.271</td><td>15.303</td><td>15.325</td><td>15.365</td><td>⋯</td><td>NA</td><td>NA</td><td>NA</td><td>NA</td><td>NA</td><td>NA</td><td>NA</td><td>NA</td><td>NA</td><td>NA</td></tr>\n",
       "\t<tr><th scope=row>2</th><td>                                             </td><td>    NA</td><td>    NA</td><td>    NA</td><td>    NA</td><td>    NA</td><td>    NA</td><td>    NA</td><td>    NA</td><td>    NA</td><td>⋯</td><td>NA</td><td>NA</td><td>NA</td><td>NA</td><td>NA</td><td>NA</td><td>NA</td><td>NA</td><td>NA</td><td>NA</td></tr>\n",
       "\t<tr><th scope=row>3</th><td>                                             </td><td>    NA</td><td>    NA</td><td>    NA</td><td>    NA</td><td>    NA</td><td>    NA</td><td>    NA</td><td>    NA</td><td>    NA</td><td>⋯</td><td>NA</td><td>NA</td><td>NA</td><td>NA</td><td>NA</td><td>NA</td><td>NA</td><td>NA</td><td>NA</td><td>NA</td></tr>\n",
       "\t<tr><th scope=row>4</th><td>month                                        </td><td> 1.000</td><td> 2.000</td><td> 3.000</td><td> 4.000</td><td> 5.000</td><td> 6.000</td><td> 7.000</td><td> 8.000</td><td> 9.000</td><td>⋯</td><td>NA</td><td>NA</td><td>NA</td><td>NA</td><td>NA</td><td>NA</td><td>NA</td><td>NA</td><td>NA</td><td>NA</td></tr>\n",
       "\t<tr><th scope=row>5</th><td>                    New domestic autos       </td><td>37.337</td><td>37.337</td><td>37.481</td><td>37.409</td><td>37.553</td><td>37.625</td><td>37.625</td><td>37.553</td><td>37.697</td><td>⋯</td><td>NA</td><td>NA</td><td>NA</td><td>NA</td><td>NA</td><td>NA</td><td>NA</td><td>NA</td><td>NA</td><td>NA</td></tr>\n",
       "\t<tr><th scope=row>6</th><td>                    New foreign autos        </td><td>37.348</td><td>37.348</td><td>37.492</td><td>37.420</td><td>37.564</td><td>37.636</td><td>37.636</td><td>37.564</td><td>37.708</td><td>⋯</td><td>NA</td><td>NA</td><td>NA</td><td>NA</td><td>NA</td><td>NA</td><td>NA</td><td>NA</td><td>NA</td><td>NA</td></tr>\n",
       "</tbody>\n",
       "</table>\n"
      ],
      "text/latex": [
       "A data.frame: 6 × 783\n",
       "\\begin{tabular}{r|lllllllllllllllllllll}\n",
       "  & month & X1 & X2 & X3 & X4 & X5 & X6 & X7 & X8 & X9 & ⋯ & X.40 & X.41 & X.42 & X.43 & X.44 & X.45 & X.46 & X.47 & X.48 & X.49\\\\\n",
       "  & <chr> & <dbl> & <dbl> & <dbl> & <dbl> & <dbl> & <dbl> & <dbl> & <dbl> & <dbl> & ⋯ & <lgl> & <lgl> & <lgl> & <lgl> & <lgl> & <lgl> & <lgl> & <lgl> & <lgl> & <lgl>\\\\\n",
       "\\hline\n",
       "\t1 &             Personal consumption expenditures & 15.164 & 15.179 & 15.189 & 15.219 & 15.227 & 15.271 & 15.303 & 15.325 & 15.365 & ⋯ & NA & NA & NA & NA & NA & NA & NA & NA & NA & NA\\\\\n",
       "\t2 &                                               &     NA &     NA &     NA &     NA &     NA &     NA &     NA &     NA &     NA & ⋯ & NA & NA & NA & NA & NA & NA & NA & NA & NA & NA\\\\\n",
       "\t3 &                                               &     NA &     NA &     NA &     NA &     NA &     NA &     NA &     NA &     NA & ⋯ & NA & NA & NA & NA & NA & NA & NA & NA & NA & NA\\\\\n",
       "\t4 & month                                         &  1.000 &  2.000 &  3.000 &  4.000 &  5.000 &  6.000 &  7.000 &  8.000 &  9.000 & ⋯ & NA & NA & NA & NA & NA & NA & NA & NA & NA & NA\\\\\n",
       "\t5 &                     New domestic autos        & 37.337 & 37.337 & 37.481 & 37.409 & 37.553 & 37.625 & 37.625 & 37.553 & 37.697 & ⋯ & NA & NA & NA & NA & NA & NA & NA & NA & NA & NA\\\\\n",
       "\t6 &                     New foreign autos         & 37.348 & 37.348 & 37.492 & 37.420 & 37.564 & 37.636 & 37.636 & 37.564 & 37.708 & ⋯ & NA & NA & NA & NA & NA & NA & NA & NA & NA & NA\\\\\n",
       "\\end{tabular}\n"
      ],
      "text/markdown": [
       "\n",
       "A data.frame: 6 × 783\n",
       "\n",
       "| <!--/--> | month &lt;chr&gt; | X1 &lt;dbl&gt; | X2 &lt;dbl&gt; | X3 &lt;dbl&gt; | X4 &lt;dbl&gt; | X5 &lt;dbl&gt; | X6 &lt;dbl&gt; | X7 &lt;dbl&gt; | X8 &lt;dbl&gt; | X9 &lt;dbl&gt; | ⋯ ⋯ | X.40 &lt;lgl&gt; | X.41 &lt;lgl&gt; | X.42 &lt;lgl&gt; | X.43 &lt;lgl&gt; | X.44 &lt;lgl&gt; | X.45 &lt;lgl&gt; | X.46 &lt;lgl&gt; | X.47 &lt;lgl&gt; | X.48 &lt;lgl&gt; | X.49 &lt;lgl&gt; |\n",
       "|---|---|---|---|---|---|---|---|---|---|---|---|---|---|---|---|---|---|---|---|---|---|\n",
       "| 1 |             Personal consumption expenditures | 15.164 | 15.179 | 15.189 | 15.219 | 15.227 | 15.271 | 15.303 | 15.325 | 15.365 | ⋯ | NA | NA | NA | NA | NA | NA | NA | NA | NA | NA |\n",
       "| 2 | <!----> |     NA |     NA |     NA |     NA |     NA |     NA |     NA |     NA |     NA | ⋯ | NA | NA | NA | NA | NA | NA | NA | NA | NA | NA |\n",
       "| 3 | <!----> |     NA |     NA |     NA |     NA |     NA |     NA |     NA |     NA |     NA | ⋯ | NA | NA | NA | NA | NA | NA | NA | NA | NA | NA |\n",
       "| 4 | month                                         |  1.000 |  2.000 |  3.000 |  4.000 |  5.000 |  6.000 |  7.000 |  8.000 |  9.000 | ⋯ | NA | NA | NA | NA | NA | NA | NA | NA | NA | NA |\n",
       "| 5 |                     New domestic autos        | 37.337 | 37.337 | 37.481 | 37.409 | 37.553 | 37.625 | 37.625 | 37.553 | 37.697 | ⋯ | NA | NA | NA | NA | NA | NA | NA | NA | NA | NA |\n",
       "| 6 |                     New foreign autos         | 37.348 | 37.348 | 37.492 | 37.420 | 37.564 | 37.636 | 37.636 | 37.564 | 37.708 | ⋯ | NA | NA | NA | NA | NA | NA | NA | NA | NA | NA |\n",
       "\n"
      ],
      "text/plain": [
       "  month                                         X1     X2     X3     X4    \n",
       "1             Personal consumption expenditures 15.164 15.179 15.189 15.219\n",
       "2                                                   NA     NA     NA     NA\n",
       "3                                                   NA     NA     NA     NA\n",
       "4 month                                          1.000  2.000  3.000  4.000\n",
       "5                     New domestic autos        37.337 37.337 37.481 37.409\n",
       "6                     New foreign autos         37.348 37.348 37.492 37.420\n",
       "  X5     X6     X7     X8     X9     ⋯ X.40 X.41 X.42 X.43 X.44 X.45 X.46 X.47\n",
       "1 15.227 15.271 15.303 15.325 15.365 ⋯ NA   NA   NA   NA   NA   NA   NA   NA  \n",
       "2     NA     NA     NA     NA     NA ⋯ NA   NA   NA   NA   NA   NA   NA   NA  \n",
       "3     NA     NA     NA     NA     NA ⋯ NA   NA   NA   NA   NA   NA   NA   NA  \n",
       "4  5.000  6.000  7.000  8.000  9.000 ⋯ NA   NA   NA   NA   NA   NA   NA   NA  \n",
       "5 37.553 37.625 37.625 37.553 37.697 ⋯ NA   NA   NA   NA   NA   NA   NA   NA  \n",
       "6 37.564 37.636 37.636 37.564 37.708 ⋯ NA   NA   NA   NA   NA   NA   NA   NA  \n",
       "  X.48 X.49\n",
       "1 NA   NA  \n",
       "2 NA   NA  \n",
       "3 NA   NA  \n",
       "4 NA   NA  \n",
       "5 NA   NA  \n",
       "6 NA   NA  "
      ]
     },
     "metadata": {},
     "output_type": "display_data"
    }
   ],
   "source": [
    "data <- read.csv(\"/Users/17718/Desktop/US_PCE_training.csv\")\n",
    "head(data)"
   ]
  },
  {
   "cell_type": "code",
   "execution_count": 3,
   "metadata": {
    "vscode": {
     "languageId": "r"
    }
   },
   "outputs": [
    {
     "data": {
      "text/html": [
       "<table class=\"dataframe\">\n",
       "<caption>A matrix: 1 × 782 of type dbl</caption>\n",
       "<thead>\n",
       "\t<tr><th></th><th scope=col>X1</th><th scope=col>X2</th><th scope=col>X3</th><th scope=col>X4</th><th scope=col>X5</th><th scope=col>X6</th><th scope=col>X7</th><th scope=col>X8</th><th scope=col>X9</th><th scope=col>X10</th><th scope=col>⋯</th><th scope=col>X.40</th><th scope=col>X.41</th><th scope=col>X.42</th><th scope=col>X.43</th><th scope=col>X.44</th><th scope=col>X.45</th><th scope=col>X.46</th><th scope=col>X.47</th><th scope=col>X.48</th><th scope=col>X.49</th></tr>\n",
       "</thead>\n",
       "<tbody>\n",
       "\t<tr><th scope=row>1</th><td>0.01186435</td><td>0.007903056</td><td>0.02367799</td><td>0.006306247</td><td>0.03462525</td><td>0.02511939</td><td>0.01723913</td><td>0.03128057</td><td>0.02886211</td><td>0.007788668</td><td>⋯</td><td>NA</td><td>NA</td><td>NA</td><td>NA</td><td>NA</td><td>NA</td><td>NA</td><td>NA</td><td>NA</td><td>NA</td></tr>\n",
       "</tbody>\n",
       "</table>\n"
      ],
      "text/latex": [
       "A matrix: 1 × 782 of type dbl\n",
       "\\begin{tabular}{r|lllllllllllllllllllll}\n",
       "  & X1 & X2 & X3 & X4 & X5 & X6 & X7 & X8 & X9 & X10 & ⋯ & X.40 & X.41 & X.42 & X.43 & X.44 & X.45 & X.46 & X.47 & X.48 & X.49\\\\\n",
       "\\hline\n",
       "\t1 & 0.01186435 & 0.007903056 & 0.02367799 & 0.006306247 & 0.03462525 & 0.02511939 & 0.01723913 & 0.03128057 & 0.02886211 & 0.007788668 & ⋯ & NA & NA & NA & NA & NA & NA & NA & NA & NA & NA\\\\\n",
       "\\end{tabular}\n"
      ],
      "text/markdown": [
       "\n",
       "A matrix: 1 × 782 of type dbl\n",
       "\n",
       "| <!--/--> | X1 | X2 | X3 | X4 | X5 | X6 | X7 | X8 | X9 | X10 | ⋯ | X.40 | X.41 | X.42 | X.43 | X.44 | X.45 | X.46 | X.47 | X.48 | X.49 |\n",
       "|---|---|---|---|---|---|---|---|---|---|---|---|---|---|---|---|---|---|---|---|---|---|\n",
       "| 1 | 0.01186435 | 0.007903056 | 0.02367799 | 0.006306247 | 0.03462525 | 0.02511939 | 0.01723913 | 0.03128057 | 0.02886211 | 0.007788668 | ⋯ | NA | NA | NA | NA | NA | NA | NA | NA | NA | NA |\n",
       "\n"
      ],
      "text/plain": [
       "  X1         X2          X3         X4          X5         X6        \n",
       "1 0.01186435 0.007903056 0.02367799 0.006306247 0.03462525 0.02511939\n",
       "  X7         X8         X9         X10         ⋯ X.40 X.41 X.42 X.43 X.44 X.45\n",
       "1 0.01723913 0.03128057 0.02886211 0.007788668 ⋯ NA   NA   NA   NA   NA   NA  \n",
       "  X.46 X.47 X.48 X.49\n",
       "1 NA   NA   NA   NA  "
      ]
     },
     "metadata": {},
     "output_type": "display_data"
    }
   ],
   "source": [
    "#Calculate inflation rate\n",
    "pce_names <- data[c(1, 1), 1]\n",
    "pce_values <- data[c(1), -1]\n",
    "inflationrate_mat <- as.matrix(pce_values)\n",
    "for (i in 1:732) { \n",
    "  inflationrate_mat[i] <- (log(pce_values[, i + 1]) - log(pce_values[, i]))*12\n",
    "}\n",
    "head(inflationrate_mat)"
   ]
  },
  {
   "cell_type": "code",
   "execution_count": 4,
   "metadata": {
    "vscode": {
     "languageId": "r"
    }
   },
   "outputs": [
    {
     "data": {
      "text/html": [
       "<table class=\"dataframe\">\n",
       "<caption>A matrix: 6 × 782 of type dbl</caption>\n",
       "<thead>\n",
       "\t<tr><th></th><th scope=col>X1</th><th scope=col>X2</th><th scope=col>X3</th><th scope=col>X4</th><th scope=col>X5</th><th scope=col>X6</th><th scope=col>X7</th><th scope=col>X8</th><th scope=col>X9</th><th scope=col>X10</th><th scope=col>⋯</th><th scope=col>X.40</th><th scope=col>X.41</th><th scope=col>X.42</th><th scope=col>X.43</th><th scope=col>X.44</th><th scope=col>X.45</th><th scope=col>X.46</th><th scope=col>X.47</th><th scope=col>X.48</th><th scope=col>X.49</th></tr>\n",
       "</thead>\n",
       "<tbody>\n",
       "\t<tr><th scope=row>5</th><td>0.011864352</td><td>0.01553231</td><td>0.018080012</td><td>-0.0002662673</td><td>37.553</td><td>37.625</td><td>37.625</td><td>37.553</td><td>37.697</td><td>37.625</td><td>⋯</td><td>NA</td><td>NA</td><td>NA</td><td>NA</td><td>NA</td><td>NA</td><td>NA</td><td>NA</td><td>NA</td><td>NA</td></tr>\n",
       "\t<tr><th scope=row>6</th><td>0.007903056</td><td>0.01809565</td><td>0.024560052</td><td> 0.0168962582</td><td>37.564</td><td>37.636</td><td>37.636</td><td>37.564</td><td>37.708</td><td>37.636</td><td>⋯</td><td>NA</td><td>NA</td><td>NA</td><td>NA</td><td>NA</td><td>NA</td><td>NA</td><td>NA</td><td>NA</td><td>NA</td></tr>\n",
       "\t<tr><th scope=row>7</th><td>0.023677987</td><td>0.02709242</td><td>0.031927254</td><td> 0.0065126738</td><td>32.616</td><td>32.678</td><td>32.678</td><td>32.617</td><td>32.744</td><td>32.685</td><td>⋯</td><td>NA</td><td>NA</td><td>NA</td><td>NA</td><td>NA</td><td>NA</td><td>NA</td><td>NA</td><td>NA</td><td>NA</td></tr>\n",
       "\t<tr><th scope=row>8</th><td>0.006306247</td><td>0.05699502</td><td>0.037018215</td><td> 0.0038527753</td><td>23.134</td><td>23.343</td><td>23.811</td><td>23.662</td><td>23.936</td><td>23.549</td><td>⋯</td><td>NA</td><td>NA</td><td>NA</td><td>NA</td><td>NA</td><td>NA</td><td>NA</td><td>NA</td><td>NA</td><td>NA</td></tr>\n",
       "\t<tr><th scope=row>9</th><td>0.034625245</td><td>0.05246982</td><td>0.004065041</td><td>-0.0050487158</td><td> 5.198</td><td> 5.313</td><td> 5.352</td><td> 5.314</td><td> 5.275</td><td> 5.275</td><td>⋯</td><td>NA</td><td>NA</td><td>NA</td><td>NA</td><td>NA</td><td>NA</td><td>NA</td><td>NA</td><td>NA</td><td>NA</td></tr>\n",
       "\t<tr><th scope=row>10</th><td>0.025119392</td><td>0.06071448</td><td>0.019197937</td><td> 0.0102280847</td><td>11.751</td><td>11.821</td><td>11.813</td><td>11.821</td><td>11.897</td><td>11.887</td><td>⋯</td><td>NA</td><td>NA</td><td>NA</td><td>NA</td><td>NA</td><td>NA</td><td>NA</td><td>NA</td><td>NA</td><td>NA</td></tr>\n",
       "</tbody>\n",
       "</table>\n"
      ],
      "text/latex": [
       "A matrix: 6 × 782 of type dbl\n",
       "\\begin{tabular}{r|lllllllllllllllllllll}\n",
       "  & X1 & X2 & X3 & X4 & X5 & X6 & X7 & X8 & X9 & X10 & ⋯ & X.40 & X.41 & X.42 & X.43 & X.44 & X.45 & X.46 & X.47 & X.48 & X.49\\\\\n",
       "\\hline\n",
       "\t5 & 0.011864352 & 0.01553231 & 0.018080012 & -0.0002662673 & 37.553 & 37.625 & 37.625 & 37.553 & 37.697 & 37.625 & ⋯ & NA & NA & NA & NA & NA & NA & NA & NA & NA & NA\\\\\n",
       "\t6 & 0.007903056 & 0.01809565 & 0.024560052 &  0.0168962582 & 37.564 & 37.636 & 37.636 & 37.564 & 37.708 & 37.636 & ⋯ & NA & NA & NA & NA & NA & NA & NA & NA & NA & NA\\\\\n",
       "\t7 & 0.023677987 & 0.02709242 & 0.031927254 &  0.0065126738 & 32.616 & 32.678 & 32.678 & 32.617 & 32.744 & 32.685 & ⋯ & NA & NA & NA & NA & NA & NA & NA & NA & NA & NA\\\\\n",
       "\t8 & 0.006306247 & 0.05699502 & 0.037018215 &  0.0038527753 & 23.134 & 23.343 & 23.811 & 23.662 & 23.936 & 23.549 & ⋯ & NA & NA & NA & NA & NA & NA & NA & NA & NA & NA\\\\\n",
       "\t9 & 0.034625245 & 0.05246982 & 0.004065041 & -0.0050487158 &  5.198 &  5.313 &  5.352 &  5.314 &  5.275 &  5.275 & ⋯ & NA & NA & NA & NA & NA & NA & NA & NA & NA & NA\\\\\n",
       "\t10 & 0.025119392 & 0.06071448 & 0.019197937 &  0.0102280847 & 11.751 & 11.821 & 11.813 & 11.821 & 11.897 & 11.887 & ⋯ & NA & NA & NA & NA & NA & NA & NA & NA & NA & NA\\\\\n",
       "\\end{tabular}\n"
      ],
      "text/markdown": [
       "\n",
       "A matrix: 6 × 782 of type dbl\n",
       "\n",
       "| <!--/--> | X1 | X2 | X3 | X4 | X5 | X6 | X7 | X8 | X9 | X10 | ⋯ | X.40 | X.41 | X.42 | X.43 | X.44 | X.45 | X.46 | X.47 | X.48 | X.49 |\n",
       "|---|---|---|---|---|---|---|---|---|---|---|---|---|---|---|---|---|---|---|---|---|---|\n",
       "| 5 | 0.011864352 | 0.01553231 | 0.018080012 | -0.0002662673 | 37.553 | 37.625 | 37.625 | 37.553 | 37.697 | 37.625 | ⋯ | NA | NA | NA | NA | NA | NA | NA | NA | NA | NA |\n",
       "| 6 | 0.007903056 | 0.01809565 | 0.024560052 |  0.0168962582 | 37.564 | 37.636 | 37.636 | 37.564 | 37.708 | 37.636 | ⋯ | NA | NA | NA | NA | NA | NA | NA | NA | NA | NA |\n",
       "| 7 | 0.023677987 | 0.02709242 | 0.031927254 |  0.0065126738 | 32.616 | 32.678 | 32.678 | 32.617 | 32.744 | 32.685 | ⋯ | NA | NA | NA | NA | NA | NA | NA | NA | NA | NA |\n",
       "| 8 | 0.006306247 | 0.05699502 | 0.037018215 |  0.0038527753 | 23.134 | 23.343 | 23.811 | 23.662 | 23.936 | 23.549 | ⋯ | NA | NA | NA | NA | NA | NA | NA | NA | NA | NA |\n",
       "| 9 | 0.034625245 | 0.05246982 | 0.004065041 | -0.0050487158 |  5.198 |  5.313 |  5.352 |  5.314 |  5.275 |  5.275 | ⋯ | NA | NA | NA | NA | NA | NA | NA | NA | NA | NA |\n",
       "| 10 | 0.025119392 | 0.06071448 | 0.019197937 |  0.0102280847 | 11.751 | 11.821 | 11.813 | 11.821 | 11.897 | 11.887 | ⋯ | NA | NA | NA | NA | NA | NA | NA | NA | NA | NA |\n",
       "\n"
      ],
      "text/plain": [
       "   X1          X2         X3          X4            X5     X6     X7     X8    \n",
       "5  0.011864352 0.01553231 0.018080012 -0.0002662673 37.553 37.625 37.625 37.553\n",
       "6  0.007903056 0.01809565 0.024560052  0.0168962582 37.564 37.636 37.636 37.564\n",
       "7  0.023677987 0.02709242 0.031927254  0.0065126738 32.616 32.678 32.678 32.617\n",
       "8  0.006306247 0.05699502 0.037018215  0.0038527753 23.134 23.343 23.811 23.662\n",
       "9  0.034625245 0.05246982 0.004065041 -0.0050487158  5.198  5.313  5.352  5.314\n",
       "10 0.025119392 0.06071448 0.019197937  0.0102280847 11.751 11.821 11.813 11.821\n",
       "   X9     X10    ⋯ X.40 X.41 X.42 X.43 X.44 X.45 X.46 X.47 X.48 X.49\n",
       "5  37.697 37.625 ⋯ NA   NA   NA   NA   NA   NA   NA   NA   NA   NA  \n",
       "6  37.708 37.636 ⋯ NA   NA   NA   NA   NA   NA   NA   NA   NA   NA  \n",
       "7  32.744 32.685 ⋯ NA   NA   NA   NA   NA   NA   NA   NA   NA   NA  \n",
       "8  23.936 23.549 ⋯ NA   NA   NA   NA   NA   NA   NA   NA   NA   NA  \n",
       "9   5.275  5.275 ⋯ NA   NA   NA   NA   NA   NA   NA   NA   NA   NA  \n",
       "10 11.897 11.887 ⋯ NA   NA   NA   NA   NA   NA   NA   NA   NA   NA  "
      ]
     },
     "metadata": {},
     "output_type": "display_data"
    }
   ],
   "source": [
    "# Extract name\n",
    "predictors_names <- data[c(5:208), 1]\n",
    "# Extract data\n",
    "predictors_values <- data[c(5:208), -1]\n",
    "# Transform matrix\n",
    "predictors_mat <- as.matrix(predictors_values)\n",
    "# transform the raw x variables into log difference\n",
    "for (i in 1:732) { \n",
    "  predictors_mat[i] <- (log(pce_values[, i + 1]) - log(pce_values[, i]))*12\n",
    "}\n",
    "head(predictors_mat)  "
   ]
  },
  {
   "cell_type": "code",
   "execution_count": 5,
   "metadata": {
    "vscode": {
     "languageId": "r"
    }
   },
   "outputs": [],
   "source": [
    "x<-predictors_mat\n",
    "y<-inflationrate_mat"
   ]
  },
  {
   "cell_type": "code",
   "execution_count": 6,
   "metadata": {
    "vscode": {
     "languageId": "r"
    }
   },
   "outputs": [],
   "source": [
    "#Check for missing values\n",
    "is_missing <- is.na(x)\n",
    "mean_val <- mean(x, na.rm = TRUE)\n",
    "x[is.na(x)] <- mean_val\n",
    "is_missing <- is.na(y)\n",
    "mean_val <- mean(y, na.rm = TRUE)\n",
    "y[is.na(y)] <- mean_val"
   ]
  },
  {
   "cell_type": "code",
   "execution_count": 7,
   "metadata": {
    "vscode": {
     "languageId": "r"
    }
   },
   "outputs": [],
   "source": [
    "#transposition of x and y\n",
    "X <- t(x)\n",
    "Y <- t(y)"
   ]
  },
  {
   "cell_type": "code",
   "execution_count": 8,
   "metadata": {
    "vscode": {
     "languageId": "r"
    }
   },
   "outputs": [
    {
     "name": "stdout",
     "output_type": "stream",
     "text": [
      "\n",
      "Call:  glmnet(x = X, y = Y, alpha = 1) \n",
      "\n",
      "     Df  %Dev    Lambda\n",
      "1     0  0.00 0.0163800\n",
      "2     1  5.56 0.0149300\n",
      "3     1 10.18 0.0136000\n",
      "4     1 14.02 0.0123900\n",
      "5     1 17.20 0.0112900\n",
      "6     1 19.84 0.0102900\n",
      "7     1 22.04 0.0093740\n",
      "8     1 23.86 0.0085410\n",
      "9     1 25.37 0.0077820\n",
      "10    1 26.63 0.0070910\n",
      "11    1 27.67 0.0064610\n",
      "12    1 28.54 0.0058870\n",
      "13    1 29.25 0.0053640\n",
      "14    2 30.75 0.0048880\n",
      "15    2 32.05 0.0044530\n",
      "16    2 33.13 0.0040580\n",
      "17    2 34.02 0.0036970\n",
      "18    2 34.77 0.0033690\n",
      "19    2 35.38 0.0030700\n",
      "20    2 35.90 0.0027970\n",
      "21    2 36.32 0.0025480\n",
      "22    3 36.78 0.0023220\n",
      "23    4 37.74 0.0021160\n",
      "24    3 38.64 0.0019280\n",
      "25    3 39.38 0.0017560\n",
      "26    3 39.99 0.0016000\n",
      "27    3 40.50 0.0014580\n",
      "28    3 40.92 0.0013290\n",
      "29    3 41.27 0.0012110\n",
      "30    3 41.56 0.0011030\n",
      "31    4 41.95 0.0010050\n",
      "32    6 42.54 0.0009158\n",
      "33    6 43.30 0.0008345\n",
      "34    6 43.94 0.0007603\n",
      "35    7 44.47 0.0006928\n",
      "36    7 44.96 0.0006312\n",
      "37    8 45.54 0.0005752\n",
      "38    8 46.18 0.0005241\n",
      "39    8 46.71 0.0004775\n",
      "40    9 47.25 0.0004351\n",
      "41   11 47.88 0.0003964\n",
      "42   11 48.50 0.0003612\n",
      "43   11 49.02 0.0003291\n",
      "44   11 49.49 0.0002999\n",
      "45   10 49.86 0.0002733\n",
      "46   15 50.20 0.0002490\n",
      "47   14 50.80 0.0002269\n",
      "48   14 51.62 0.0002067\n",
      "49   20 52.44 0.0001883\n",
      "50   21 53.27 0.0001716\n",
      "51   20 54.06 0.0001564\n",
      "52   20 54.64 0.0001425\n",
      "53   22 55.11 0.0001298\n",
      "54   24 55.62 0.0001183\n",
      "55   24 56.24 0.0001078\n",
      "56   25 56.69 0.0000982\n",
      "57   25 57.13 0.0000895\n",
      "58   24 57.48 0.0000815\n",
      "59   25 57.75 0.0000743\n",
      "60   27 57.99 0.0000677\n",
      "61   31 58.45 0.0000617\n",
      "62   32 58.75 0.0000562\n",
      "63   37 59.21 0.0000512\n",
      "64   41 59.55 0.0000467\n",
      "65   45 59.97 0.0000425\n",
      "66   51 60.58 0.0000387\n",
      "67   53 61.36 0.0000353\n",
      "68   58 61.94 0.0000322\n",
      "69   66 62.49 0.0000293\n",
      "70   66 63.10 0.0000267\n",
      "71   70 63.76 0.0000243\n",
      "72   75 64.50 0.0000222\n",
      "73   78 65.33 0.0000202\n",
      "74   80 66.08 0.0000184\n",
      "75   79 66.73 0.0000168\n",
      "76   77 67.33 0.0000153\n",
      "77   79 67.80 0.0000139\n",
      "78   85 68.20 0.0000127\n",
      "79   91 68.58 0.0000116\n",
      "80   98 68.84 0.0000105\n",
      "81  107 69.12 0.0000096\n",
      "82  110 69.45 0.0000087\n",
      "83  113 69.79 0.0000080\n",
      "84  112 70.12 0.0000073\n",
      "85  112 70.40 0.0000066\n",
      "86  123 70.51 0.0000060\n",
      "87  130 70.56 0.0000055\n",
      "88  136 70.60 0.0000050\n",
      "89  146 70.64 0.0000046\n",
      "90  148 70.86 0.0000042\n",
      "91  150 71.10 0.0000038\n",
      "92  155 71.32 0.0000034\n",
      "93  156 71.53 0.0000031\n",
      "94  158 71.74 0.0000029\n",
      "95  156 71.92 0.0000026\n",
      "96  156 72.06 0.0000024\n",
      "97  159 72.18 0.0000022\n",
      "98  164 72.30 0.0000020\n",
      "99  167 72.40 0.0000018\n",
      "100 170 72.50 0.0000016\n"
     ]
    },
    {
     "data": {
      "image/png": "[encoded data removed]",
      "text/plain": [
       "plot without title"
      ]
     },
     "metadata": {
      "image/png": {
       "height": 420,
       "width": 420
      }
     },
     "output_type": "display_data"
    }
   ],
   "source": [
    "#LASSO\n",
    "lasso_model <- glmnet(X, Y, alpha = 1)\n",
    "##visualization\n",
    "plot(lasso_model, xvar=\"lambda\", label=TRUE)\n",
    "print(lasso_model)"
   ]
  },
  {
   "cell_type": "code",
   "execution_count": 9,
   "metadata": {
    "vscode": {
     "languageId": "r"
    }
   },
   "outputs": [
    {
     "name": "stderr",
     "output_type": "stream",
     "text": [
      "Warning message in plot.window(...):\n",
      "\"\"xvar\" is not a graphical parameter\"\n",
      "Warning message in plot.window(...):\n",
      "\"\"label\" is not a graphical parameter\"\n",
      "Warning message in plot.xy(xy, type, ...):\n",
      "\"\"xvar\" is not a graphical parameter\"\n",
      "Warning message in plot.xy(xy, type, ...):\n",
      "\"\"label\" is not a graphical parameter\"\n",
      "Warning message in axis(side = side, at = at, labels = labels, ...):\n",
      "\"\"xvar\" is not a graphical parameter\"\n",
      "Warning message in axis(side = side, at = at, labels = labels, ...):\n",
      "\"\"label\" is not a graphical parameter\"\n",
      "Warning message in axis(side = side, at = at, labels = labels, ...):\n",
      "\"\"xvar\" is not a graphical parameter\"\n",
      "Warning message in axis(side = side, at = at, labels = labels, ...):\n",
      "\"\"label\" is not a graphical parameter\"\n",
      "Warning message in box(...):\n",
      "\"\"xvar\" is not a graphical parameter\"\n",
      "Warning message in box(...):\n",
      "\"\"label\" is not a graphical parameter\"\n",
      "Warning message in title(...):\n",
      "\"\"xvar\" is not a graphical parameter\"\n",
      "Warning message in title(...):\n",
      "\"\"label\" is not a graphical parameter\"\n"
     ]
    },
    {
     "name": "stdout",
     "output_type": "stream",
     "text": [
      "\n",
      "Call:  cv.glmnet(x = X, y = Y, nfolds = 5, alpha = 1) \n",
      "\n",
      "Measure: Mean-Squared Error \n",
      "\n",
      "      Lambda Index   Measure        SE Nonzero\n",
      "min 3.78e-06    91 0.0003445 4.194e-05     150\n",
      "1se 5.12e-05    63 0.0003861 4.385e-05      37\n"
     ]
    },
    {
     "data": {
      "image/png": "[encoded data removed]",
      "text/plain": [
       "plot without title"
      ]
     },
     "metadata": {
      "image/png": {
       "height": 420,
       "width": 420
      }
     },
     "output_type": "display_data"
    }
   ],
   "source": [
    "#cross validation\n",
    "lasso_model <- cv.glmnet(x = X, y = Y, alpha = 1, nfolds = 5) \n",
    "#visualization\n",
    "plot(lasso_model, xvar=\"lambda\", label=TRUE)\n",
    "print(lasso_model)"
   ]
  },
  {
   "cell_type": "code",
   "execution_count": 10,
   "metadata": {
    "vscode": {
     "languageId": "r"
    }
   },
   "outputs": [
    {
     "data": {
      "text/plain": [
       "205 x 1 sparse Matrix of class \"dgCMatrix\"\n",
       "                       s0\n",
       "(Intercept)  3.130923e-03\n",
       "5           -7.508284e-04\n",
       "6           -7.863726e-05\n",
       "7            .           \n",
       "8            .           \n",
       "9            1.327613e-04\n",
       "10           1.918784e-03\n",
       "11           4.382991e-04\n",
       "12          -1.160911e-03\n",
       "13          -6.269553e-05\n",
       "14          -2.863442e-04\n",
       "15           2.979320e-05\n",
       "16          -1.515659e-03\n",
       "17          -5.747788e-04\n",
       "18          -5.774902e-04\n",
       "19          -4.621547e-04\n",
       "20          -8.057775e-04\n",
       "21           8.032630e-04\n",
       "22          -6.767644e-04\n",
       "23           1.845669e-04\n",
       "24          -1.354581e-07\n",
       "25           1.224843e-04\n",
       "26           .           \n",
       "27          -7.508761e-04\n",
       "28          -1.851699e-06\n",
       "29          -4.250899e-06\n",
       "30          -3.107451e-04\n",
       "31           1.018039e-03\n",
       "32          -3.730280e-04\n",
       "33           .           \n",
       "34           .           \n",
       "35           .           \n",
       "36           5.853464e-04\n",
       "37          -2.701866e-03\n",
       "38           3.346372e-04\n",
       "39          -7.023375e-05\n",
       "40           .           \n",
       "41           1.608190e-03\n",
       "42          -7.939776e-04\n",
       "43          -4.363137e-04\n",
       "44           .           \n",
       "45           3.676128e-05\n",
       "46           .           \n",
       "47          -5.338144e-04\n",
       "48          -6.099740e-04\n",
       "49           1.204265e-03\n",
       "50           2.776713e-04\n",
       "51          -3.207270e-06\n",
       "52           4.182107e-05\n",
       "53          -1.212688e-05\n",
       "54          -2.193204e-04\n",
       "55          -2.270491e-03\n",
       "56           4.022785e-04\n",
       "57          -1.112585e-03\n",
       "58           3.435391e-03\n",
       "59           8.862404e-04\n",
       "60          -2.847701e-03\n",
       "61           2.277973e-04\n",
       "62           3.665341e-05\n",
       "63          -2.171206e-03\n",
       "64           2.057493e-03\n",
       "65           .           \n",
       "66           1.409535e-03\n",
       "67          -1.003036e-04\n",
       "68           1.280454e-03\n",
       "69          -2.612633e-04\n",
       "70           3.928265e-04\n",
       "71           5.658019e-03\n",
       "72           9.533619e-04\n",
       "73          -1.739977e-03\n",
       "74          -2.825336e-03\n",
       "75           1.462497e-03\n",
       "76          -1.041967e-03\n",
       "77          -3.576785e-04\n",
       "78           .           \n",
       "79          -1.888767e-03\n",
       "80           6.162066e-05\n",
       "81           .           \n",
       "82           1.507838e-03\n",
       "83          -6.646921e-04\n",
       "84           .           \n",
       "85          -2.133159e-04\n",
       "86           2.025157e-04\n",
       "87          -2.480559e-04\n",
       "88           1.755329e-04\n",
       "89           1.029890e-03\n",
       "90          -5.629065e-04\n",
       "91           5.375321e-04\n",
       "92           .           \n",
       "93          -6.561817e-04\n",
       "94           1.308106e-03\n",
       "95           1.476460e-03\n",
       "96           .           \n",
       "97           .           \n",
       "98          -5.167343e-04\n",
       "99          -7.847396e-04\n",
       "100          .           \n",
       "101          .           \n",
       "102          1.040105e-03\n",
       "103         -8.762017e-04\n",
       "104         -2.356330e-03\n",
       "105         -2.504234e-03\n",
       "106         -1.368044e-03\n",
       "107         -3.197692e-04\n",
       "108          8.391971e-04\n",
       "109          1.460196e-03\n",
       "110          3.050000e-04\n",
       "111          .           \n",
       "112          .           \n",
       "113          .           \n",
       "114          9.169657e-04\n",
       "115          7.953292e-06\n",
       "116          4.802883e-04\n",
       "117         -5.384065e-04\n",
       "118          6.113727e-04\n",
       "119          1.097848e-04\n",
       "120          8.060964e-04\n",
       "121         -1.522253e-03\n",
       "122          4.068921e-04\n",
       "123         -4.625393e-04\n",
       "124         -5.554548e-04\n",
       "125         -4.549313e-05\n",
       "126         -4.063827e-04\n",
       "127          6.482354e-04\n",
       "128          1.035688e-05\n",
       "129          4.071082e-04\n",
       "130          .           \n",
       "131          .           \n",
       "132          .           \n",
       "133          .           \n",
       "134          .           \n",
       "135          .           \n",
       "136         -1.523610e-04\n",
       "137          1.600033e-03\n",
       "138          .           \n",
       "139          .           \n",
       "140          2.380601e-08\n",
       "141         -4.814756e-04\n",
       "142          1.704977e-05\n",
       "143          6.842601e-06\n",
       "144         -3.346765e-04\n",
       "145          .           \n",
       "146          6.330476e-04\n",
       "147          3.814882e-04\n",
       "148         -7.353417e-05\n",
       "149         -2.049813e-03\n",
       "150         -1.338628e-03\n",
       "151          .           \n",
       "152          2.192546e-03\n",
       "153          4.125431e-05\n",
       "154         -1.262280e-04\n",
       "155         -3.746443e-04\n",
       "156         -1.645976e-03\n",
       "157         -9.865060e-04\n",
       "158          1.802797e-03\n",
       "159          2.384370e-09\n",
       "160          .           \n",
       "161          1.538084e-03\n",
       "162          4.174648e-03\n",
       "163         -1.845063e-03\n",
       "164          .           \n",
       "165          .           \n",
       "166         -1.167448e-03\n",
       "167          2.770657e-03\n",
       "168         -1.443466e-03\n",
       "169         -5.601975e-04\n",
       "170         -9.389993e-04\n",
       "171          .           \n",
       "172          .           \n",
       "173          5.452272e-05\n",
       "174          .           \n",
       "175          .           \n",
       "176          9.865712e-04\n",
       "177          .           \n",
       "178         -9.892688e-04\n",
       "179          3.437695e-06\n",
       "180         -9.408977e-06\n",
       "181          .           \n",
       "182          .           \n",
       "183          .           \n",
       "184         -7.047502e-04\n",
       "185         -1.469282e-03\n",
       "186          3.056200e-04\n",
       "187          .           \n",
       "188          .           \n",
       "189          4.441714e-04\n",
       "190          8.716163e-04\n",
       "191          8.161188e-04\n",
       "192          5.185274e-04\n",
       "193         -5.551399e-08\n",
       "194          .           \n",
       "195          9.667203e-04\n",
       "196          2.496000e-04\n",
       "197          3.333338e-05\n",
       "198         -2.468524e-03\n",
       "199          .           \n",
       "200          .           \n",
       "201         -2.593541e-04\n",
       "202          .           \n",
       "203          1.480366e-03\n",
       "204         -7.188974e-04\n",
       "205          4.036142e-06\n",
       "206          1.941279e-03\n",
       "207          2.129819e-04\n",
       "208          .           "
      ]
     },
     "metadata": {},
     "output_type": "display_data"
    }
   ],
   "source": [
    "# Best lambda value\n",
    "best_lambda <- lasso_model$lambda.min\n",
    "# Fit the final Lasso model with the best lambda\n",
    "final_model <- glmnet(x = X, y = Y, alpha = 1, lambda = best_lambda)\n",
    "# Model Evaluation\n",
    "predictions <- predict(final_model, s = best_lambda, newx = X)\n",
    "mse <- mean((predictions - Y)^2)\n",
    "mae <- mean(abs(predictions - Y))\n",
    "# Feature Importance\n",
    "coef(final_model)"
   ]
  },
  {
   "cell_type": "code",
   "execution_count": 11,
   "metadata": {
    "vscode": {
     "languageId": "r"
    }
   },
   "outputs": [
    {
     "name": "stderr",
     "output_type": "stream",
     "text": [
      "Warning message:\n",
      "\"package 'forecast' was built under R version 4.3.3\"\n",
      "Registered S3 method overwritten by 'quantmod':\n",
      "  method            from\n",
      "  as.zoo.data.frame zoo \n",
      "\n"
     ]
    }
   ],
   "source": [
    "# Load necessary libraries\n",
    "library(forecast)"
   ]
  },
  {
   "cell_type": "code",
   "execution_count": 12,
   "metadata": {
    "vscode": {
     "languageId": "r"
    }
   },
   "outputs": [
    {
     "name": "stdout",
     "output_type": "stream",
     "text": [
      "       Point Forecast       Lo 80      Hi 80        Lo 95      Hi 95\n",
      "Mar 66     0.03156162 0.007405283 0.05571795 -0.005382308 0.06850554\n"
     ]
    }
   ],
   "source": [
    "# 1 Month Ahead Forecasting\n",
    "ts_1_month <- ts(Y, frequency = 12)  \n",
    "model_1_month <- auto.arima(ts_1_month)\n",
    "forecast_1_month <- forecast(model_1_month, h = 1)\n",
    "print(forecast_1_month)"
   ]
  },
  {
   "cell_type": "code",
   "execution_count": 13,
   "metadata": {
    "vscode": {
     "languageId": "r"
    }
   },
   "outputs": [
    {
     "name": "stdout",
     "output_type": "stream",
     "text": [
      "       Point Forecast       Lo 80      Hi 80        Lo 95      Hi 95\n",
      "196 Q3     0.03162559 0.007387380 0.05586381 -0.005443556 0.06869474\n",
      "196 Q4     0.03161603 0.004916165 0.05831589 -0.009217888 0.07244994\n",
      "197 Q1     0.03161264 0.004112121 0.05911316 -0.010445775 0.07367106\n"
     ]
    }
   ],
   "source": [
    "# 3 Month Ahead Forecasting\n",
    "ts_3_month <- ts(Y, frequency = 4) \n",
    "model_3_month <- auto.arima(ts_3_month)\n",
    "forecast_3_month <- forecast(model_3_month, h = 3)\n",
    "print(forecast_3_month)"
   ]
  },
  {
   "cell_type": "code",
   "execution_count": 14,
   "metadata": {
    "vscode": {
     "languageId": "r"
    }
   },
   "outputs": [
    {
     "name": "stdout",
     "output_type": "stream",
     "text": [
      "    Point Forecast       Lo 80      Hi 80        Lo 95      Hi 95\n",
      "783     0.03162559 0.007387380 0.05586381 -0.005443556 0.06869474\n",
      "784     0.03161603 0.004916165 0.05831589 -0.009217888 0.07244994\n",
      "785     0.03161264 0.004112121 0.05911316 -0.010445775 0.07367106\n",
      "786     0.03161145 0.003667625 0.05955527 -0.011124940 0.07434783\n",
      "787     0.03161102 0.003325795 0.05989625 -0.011647500 0.07486955\n",
      "788     0.03161087 0.003018786 0.06020296 -0.012116951 0.07533870\n",
      "789     0.03161082 0.002725458 0.06049618 -0.012565530 0.07578717\n",
      "790     0.03161080 0.002438683 0.06078292 -0.013004104 0.07622571\n",
      "791     0.03161080 0.002155958 0.06106563 -0.013436491 0.07665808\n",
      "792     0.03161079 0.001876361 0.06134523 -0.013864097 0.07708568\n",
      "793     0.03161079 0.001599522 0.06162206 -0.014287485 0.07750907\n",
      "794     0.03161079 0.001325268 0.06189632 -0.014706920 0.07792850\n"
     ]
    }
   ],
   "source": [
    "# 12 Month Ahead Forecasting\n",
    "ts_12_month <- ts(Y, frequency = 1) \n",
    "model_12_month <- auto.arima(ts_12_month)\n",
    "forecast_12_month <- forecast(model_12_month, h = 12)\n",
    "print(forecast_12_month)"
   ]
  }
 ],
 "metadata": {
  "kernelspec": {
   "display_name": "R",
   "language": "R",
   "name": "ir"
  },
  "language_info": {
   "codemirror_mode": "r",
   "file_extension": ".r",
   "mimetype": "text/x-r-source",
   "name": "R",
   "pygments_lexer": "r",
   "version": "4.3.1"
  }
 },
 "nbformat": 4,
 "nbformat_minor": 2
}
