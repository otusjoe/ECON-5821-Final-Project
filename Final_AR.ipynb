{
 "cells": [
  {
   "cell_type": "code",
   "execution_count": 1,
   "metadata": {
    "vscode": {
     "languageId": "r"
    }
   },
   "outputs": [
    {
     "name": "stderr",
     "output_type": "stream",
     "text": [
      "\n",
      "Attaching package: 'dplyr'\n",
      "\n",
      "\n",
      "The following objects are masked from 'package:stats':\n",
      "\n",
      "    filter, lag\n",
      "\n",
      "\n",
      "The following objects are masked from 'package:base':\n",
      "\n",
      "    intersect, setdiff, setequal, union\n",
      "\n",
      "\n",
      "\n",
      "Attaching package: 'zoo'\n",
      "\n",
      "\n",
      "The following objects are masked from 'package:base':\n",
      "\n",
      "    as.Date, as.Date.numeric\n",
      "\n",
      "\n"
     ]
    }
   ],
   "source": [
    "# 导入需要的包\n",
    "library(ggplot2)\n",
    "library(readxl)\n",
    "library(dplyr)\n",
    "library(zoo)"
   ]
  },
  {
   "cell_type": "code",
   "execution_count": 2,
   "metadata": {
    "vscode": {
     "languageId": "r"
    }
   },
   "outputs": [],
   "source": [
    "# 读取数据\n",
    "data <- read_excel(\"US_PCE_training.xlsx\") \n",
    "\n",
    "# 将数据转换为数据框\n",
    "data <- as.data.frame(data)\n"
   ]
  },
  {
   "cell_type": "code",
   "execution_count": 3,
   "metadata": {
    "vscode": {
     "languageId": "r"
    }
   },
   "outputs": [
    {
     "data": {
      "text/html": [
       "<table class=\"dataframe\">\n",
       "<caption>A data.frame: 6 × 733</caption>\n",
       "<thead>\n",
       "\t<tr><th></th><th scope=col>month</th><th scope=col>1</th><th scope=col>2</th><th scope=col>3</th><th scope=col>4</th><th scope=col>5</th><th scope=col>6</th><th scope=col>7</th><th scope=col>8</th><th scope=col>9</th><th scope=col>⋯</th><th scope=col>723</th><th scope=col>724</th><th scope=col>725</th><th scope=col>726</th><th scope=col>727</th><th scope=col>728</th><th scope=col>729</th><th scope=col>730</th><th scope=col>731</th><th scope=col>732</th></tr>\n",
       "\t<tr><th></th><th scope=col>&lt;chr&gt;</th><th scope=col>&lt;dbl&gt;</th><th scope=col>&lt;dbl&gt;</th><th scope=col>&lt;dbl&gt;</th><th scope=col>&lt;dbl&gt;</th><th scope=col>&lt;dbl&gt;</th><th scope=col>&lt;dbl&gt;</th><th scope=col>&lt;dbl&gt;</th><th scope=col>&lt;dbl&gt;</th><th scope=col>&lt;dbl&gt;</th><th scope=col>⋯</th><th scope=col>&lt;dbl&gt;</th><th scope=col>&lt;dbl&gt;</th><th scope=col>&lt;dbl&gt;</th><th scope=col>&lt;dbl&gt;</th><th scope=col>&lt;dbl&gt;</th><th scope=col>&lt;dbl&gt;</th><th scope=col>&lt;dbl&gt;</th><th scope=col>&lt;dbl&gt;</th><th scope=col>&lt;dbl&gt;</th><th scope=col>&lt;dbl&gt;</th></tr>\n",
       "</thead>\n",
       "<tbody>\n",
       "\t<tr><th scope=row>1</th><td>Personal consumption expenditures</td><td>15.164</td><td>15.179</td><td>15.189</td><td>15.219</td><td>15.227</td><td>15.271</td><td>15.303</td><td>15.325</td><td>15.365</td><td>⋯</td><td>103.056</td><td>103.371</td><td>103.426</td><td>103.469</td><td>103.608</td><td>103.661</td><td>103.754</td><td>103.961</td><td>103.997</td><td>104.282</td></tr>\n",
       "\t<tr><th scope=row>2</th><td>NA                               </td><td>    NA</td><td>    NA</td><td>    NA</td><td>    NA</td><td>    NA</td><td>    NA</td><td>    NA</td><td>    NA</td><td>    NA</td><td>⋯</td><td>     NA</td><td>     NA</td><td>     NA</td><td>     NA</td><td>     NA</td><td>     NA</td><td>     NA</td><td>     NA</td><td>     NA</td><td>     NA</td></tr>\n",
       "\t<tr><th scope=row>3</th><td>NA                               </td><td>    NA</td><td>    NA</td><td>    NA</td><td>    NA</td><td>    NA</td><td>    NA</td><td>    NA</td><td>    NA</td><td>    NA</td><td>⋯</td><td>     NA</td><td>     NA</td><td>     NA</td><td>     NA</td><td>     NA</td><td>     NA</td><td>     NA</td><td>     NA</td><td>     NA</td><td>     NA</td></tr>\n",
       "\t<tr><th scope=row>4</th><td>month                            </td><td> 1.000</td><td> 2.000</td><td> 3.000</td><td> 4.000</td><td> 5.000</td><td> 6.000</td><td> 7.000</td><td> 8.000</td><td> 9.000</td><td>⋯</td><td>723.000</td><td>724.000</td><td>725.000</td><td>726.000</td><td>727.000</td><td>728.000</td><td>729.000</td><td>730.000</td><td>731.000</td><td>732.000</td></tr>\n",
       "\t<tr><th scope=row>5</th><td>New domestic autos               </td><td>37.337</td><td>37.337</td><td>37.481</td><td>37.409</td><td>37.553</td><td>37.625</td><td>37.625</td><td>37.553</td><td>37.697</td><td>⋯</td><td>100.273</td><td>100.503</td><td>100.507</td><td>100.419</td><td>100.271</td><td>100.239</td><td> 99.981</td><td> 99.941</td><td> 99.815</td><td> 99.806</td></tr>\n",
       "\t<tr><th scope=row>6</th><td>New foreign autos                </td><td>37.348</td><td>37.348</td><td>37.492</td><td>37.420</td><td>37.564</td><td>37.636</td><td>37.636</td><td>37.564</td><td>37.708</td><td>⋯</td><td>100.304</td><td>100.534</td><td>100.538</td><td>100.449</td><td>100.301</td><td>100.269</td><td>100.011</td><td> 99.971</td><td> 99.845</td><td> 99.836</td></tr>\n",
       "</tbody>\n",
       "</table>\n"
      ],
      "text/latex": [
       "A data.frame: 6 × 733\n",
       "\\begin{tabular}{r|lllllllllllllllllllll}\n",
       "  & month & 1 & 2 & 3 & 4 & 5 & 6 & 7 & 8 & 9 & ⋯ & 723 & 724 & 725 & 726 & 727 & 728 & 729 & 730 & 731 & 732\\\\\n",
       "  & <chr> & <dbl> & <dbl> & <dbl> & <dbl> & <dbl> & <dbl> & <dbl> & <dbl> & <dbl> & ⋯ & <dbl> & <dbl> & <dbl> & <dbl> & <dbl> & <dbl> & <dbl> & <dbl> & <dbl> & <dbl>\\\\\n",
       "\\hline\n",
       "\t1 & Personal consumption expenditures & 15.164 & 15.179 & 15.189 & 15.219 & 15.227 & 15.271 & 15.303 & 15.325 & 15.365 & ⋯ & 103.056 & 103.371 & 103.426 & 103.469 & 103.608 & 103.661 & 103.754 & 103.961 & 103.997 & 104.282\\\\\n",
       "\t2 & NA                                &     NA &     NA &     NA &     NA &     NA &     NA &     NA &     NA &     NA & ⋯ &      NA &      NA &      NA &      NA &      NA &      NA &      NA &      NA &      NA &      NA\\\\\n",
       "\t3 & NA                                &     NA &     NA &     NA &     NA &     NA &     NA &     NA &     NA &     NA & ⋯ &      NA &      NA &      NA &      NA &      NA &      NA &      NA &      NA &      NA &      NA\\\\\n",
       "\t4 & month                             &  1.000 &  2.000 &  3.000 &  4.000 &  5.000 &  6.000 &  7.000 &  8.000 &  9.000 & ⋯ & 723.000 & 724.000 & 725.000 & 726.000 & 727.000 & 728.000 & 729.000 & 730.000 & 731.000 & 732.000\\\\\n",
       "\t5 & New domestic autos                & 37.337 & 37.337 & 37.481 & 37.409 & 37.553 & 37.625 & 37.625 & 37.553 & 37.697 & ⋯ & 100.273 & 100.503 & 100.507 & 100.419 & 100.271 & 100.239 &  99.981 &  99.941 &  99.815 &  99.806\\\\\n",
       "\t6 & New foreign autos                 & 37.348 & 37.348 & 37.492 & 37.420 & 37.564 & 37.636 & 37.636 & 37.564 & 37.708 & ⋯ & 100.304 & 100.534 & 100.538 & 100.449 & 100.301 & 100.269 & 100.011 &  99.971 &  99.845 &  99.836\\\\\n",
       "\\end{tabular}\n"
      ],
      "text/markdown": [
       "\n",
       "A data.frame: 6 × 733\n",
       "\n",
       "| <!--/--> | month &lt;chr&gt; | 1 &lt;dbl&gt; | 2 &lt;dbl&gt; | 3 &lt;dbl&gt; | 4 &lt;dbl&gt; | 5 &lt;dbl&gt; | 6 &lt;dbl&gt; | 7 &lt;dbl&gt; | 8 &lt;dbl&gt; | 9 &lt;dbl&gt; | ⋯ ⋯ | 723 &lt;dbl&gt; | 724 &lt;dbl&gt; | 725 &lt;dbl&gt; | 726 &lt;dbl&gt; | 727 &lt;dbl&gt; | 728 &lt;dbl&gt; | 729 &lt;dbl&gt; | 730 &lt;dbl&gt; | 731 &lt;dbl&gt; | 732 &lt;dbl&gt; |\n",
       "|---|---|---|---|---|---|---|---|---|---|---|---|---|---|---|---|---|---|---|---|---|---|\n",
       "| 1 | Personal consumption expenditures | 15.164 | 15.179 | 15.189 | 15.219 | 15.227 | 15.271 | 15.303 | 15.325 | 15.365 | ⋯ | 103.056 | 103.371 | 103.426 | 103.469 | 103.608 | 103.661 | 103.754 | 103.961 | 103.997 | 104.282 |\n",
       "| 2 | NA                                |     NA |     NA |     NA |     NA |     NA |     NA |     NA |     NA |     NA | ⋯ |      NA |      NA |      NA |      NA |      NA |      NA |      NA |      NA |      NA |      NA |\n",
       "| 3 | NA                                |     NA |     NA |     NA |     NA |     NA |     NA |     NA |     NA |     NA | ⋯ |      NA |      NA |      NA |      NA |      NA |      NA |      NA |      NA |      NA |      NA |\n",
       "| 4 | month                             |  1.000 |  2.000 |  3.000 |  4.000 |  5.000 |  6.000 |  7.000 |  8.000 |  9.000 | ⋯ | 723.000 | 724.000 | 725.000 | 726.000 | 727.000 | 728.000 | 729.000 | 730.000 | 731.000 | 732.000 |\n",
       "| 5 | New domestic autos                | 37.337 | 37.337 | 37.481 | 37.409 | 37.553 | 37.625 | 37.625 | 37.553 | 37.697 | ⋯ | 100.273 | 100.503 | 100.507 | 100.419 | 100.271 | 100.239 |  99.981 |  99.941 |  99.815 |  99.806 |\n",
       "| 6 | New foreign autos                 | 37.348 | 37.348 | 37.492 | 37.420 | 37.564 | 37.636 | 37.636 | 37.564 | 37.708 | ⋯ | 100.304 | 100.534 | 100.538 | 100.449 | 100.301 | 100.269 | 100.011 |  99.971 |  99.845 |  99.836 |\n",
       "\n"
      ],
      "text/plain": [
       "  month                             1      2      3      4      5      6     \n",
       "1 Personal consumption expenditures 15.164 15.179 15.189 15.219 15.227 15.271\n",
       "2 NA                                    NA     NA     NA     NA     NA     NA\n",
       "3 NA                                    NA     NA     NA     NA     NA     NA\n",
       "4 month                              1.000  2.000  3.000  4.000  5.000  6.000\n",
       "5 New domestic autos                37.337 37.337 37.481 37.409 37.553 37.625\n",
       "6 New foreign autos                 37.348 37.348 37.492 37.420 37.564 37.636\n",
       "  7      8      9      ⋯ 723     724     725     726     727     728    \n",
       "1 15.303 15.325 15.365 ⋯ 103.056 103.371 103.426 103.469 103.608 103.661\n",
       "2     NA     NA     NA ⋯      NA      NA      NA      NA      NA      NA\n",
       "3     NA     NA     NA ⋯      NA      NA      NA      NA      NA      NA\n",
       "4  7.000  8.000  9.000 ⋯ 723.000 724.000 725.000 726.000 727.000 728.000\n",
       "5 37.625 37.553 37.697 ⋯ 100.273 100.503 100.507 100.419 100.271 100.239\n",
       "6 37.636 37.564 37.708 ⋯ 100.304 100.534 100.538 100.449 100.301 100.269\n",
       "  729     730     731     732    \n",
       "1 103.754 103.961 103.997 104.282\n",
       "2      NA      NA      NA      NA\n",
       "3      NA      NA      NA      NA\n",
       "4 729.000 730.000 731.000 732.000\n",
       "5  99.981  99.941  99.815  99.806\n",
       "6 100.011  99.971  99.845  99.836"
      ]
     },
     "metadata": {},
     "output_type": "display_data"
    }
   ],
   "source": [
    "head(data)"
   ]
  },
  {
   "cell_type": "code",
   "execution_count": 4,
   "metadata": {
    "vscode": {
     "languageId": "r"
    }
   },
   "outputs": [],
   "source": [
    "# 提取变量名称\n",
    "var_names <- data[c(1, 5:208), 1]\n",
    "\n",
    "# 提取数值数据\n",
    "data_values <- data[c(1, 5:208), -1]\n",
    "\n",
    "# 将数据转换为矩阵\n",
    "data_mat <- as.matrix(data_values)\n"
   ]
  },
  {
   "cell_type": "code",
   "execution_count": 5,
   "metadata": {
    "vscode": {
     "languageId": "r"
    }
   },
   "outputs": [],
   "source": [
    "# 计算因变量的对数差分\n",
    "y <- diff(log(data_mat[1, ])) * 12\n",
    "y <- c(NA, y)\n",
    "\n",
    "# 计算自变量的对数差分\n",
    "x <- apply(data_mat[-1, ], 1, function(x) c(NA, diff(log(x)) * 12))\n",
    "\n",
    "# 将结果合并为数据框\n",
    "data_transformed <- data.frame(inflation = y, x)\n",
    "colnames(data_transformed)[-1] <- var_names[-1]\n",
    "\n",
    "# 将数据转换为时间序列对象\n",
    "data_ts <- ts(data_transformed, start = c(1, 1), frequency = 12)"
   ]
  },
  {
   "cell_type": "code",
   "execution_count": 6,
   "metadata": {
    "vscode": {
     "languageId": "r"
    }
   },
   "outputs": [
    {
     "data": {
      "text/html": [
       "<table class=\"dataframe\">\n",
       "<caption>A matrix: 6 × 205 of type dbl</caption>\n",
       "<thead>\n",
       "\t<tr><th scope=col>inflation</th><th scope=col>New domestic autos</th><th scope=col>New foreign autos</th><th scope=col>New light trucks</th><th scope=col>Net transactions in used autos</th><th scope=col>Used auto margin</th><th scope=col>Employee reimbursement</th><th scope=col>Used light trucks</th><th scope=col>Tires</th><th scope=col>Accessories and parts</th><th scope=col>⋯</th><th scope=col>Nonprofit hospitals services to households</th><th scope=col>Nonprofit nursing homes services to households</th><th scope=col>Recreation services to households</th><th scope=col>Education services to households</th><th scope=col>Social services to households</th><th scope=col>Religious organizations' services to households</th><th scope=col>Foundations and grantmaking and giving services to households</th><th scope=col>Services of social advocacy establishments to households</th><th scope=col>Civic and social organizations' services to households</th><th scope=col>Professional advocacy services to households</th></tr>\n",
       "</thead>\n",
       "<tbody>\n",
       "\t<tr><td>         NA</td><td>         NA</td><td>         NA</td><td>           NA</td><td>          NA</td><td>         NA</td><td>         NA</td><td>          NA</td><td>          NA</td><td>          NA</td><td>⋯</td><td>         NA</td><td>         NA</td><td>        NA</td><td>        NA</td><td>        NA</td><td>        NA</td><td>         NA</td><td>        NA</td><td>        NA</td><td>         NA</td></tr>\n",
       "\t<tr><td>0.011864352</td><td> 0.00000000</td><td> 0.00000000</td><td>-0.0007398958</td><td> 0.102295180</td><td> 0.18317335</td><td>0.077363056</td><td> 0.091356508</td><td>-0.021099937</td><td>-0.025997403</td><td>⋯</td><td> 0.00000000</td><td> 0.09992051</td><td>0.08441397</td><td>-0.1466413</td><td>-0.3197703</td><td>-0.2403771</td><td>-0.26360020</td><td>-0.3202298</td><td>-0.3202764</td><td>0.065499367</td></tr>\n",
       "\t<tr><td>0.007903056</td><td> 0.04619215</td><td> 0.04617857</td><td> 0.0454189326</td><td> 0.143224207</td><td>-0.09242664</td><td>0.072780303</td><td> 0.135275102</td><td>-0.001825194</td><td> 0.028197986</td><td>⋯</td><td>-0.04394460</td><td>-0.01531834</td><td>0.10051914</td><td>-0.1733776</td><td>-0.2472346</td><td>-0.2032053</td><td>-0.11411978</td><td>-0.2469306</td><td>-0.2470794</td><td>0.075966792</td></tr>\n",
       "\t<tr><td>0.023677987</td><td>-0.02307385</td><td>-0.02306707</td><td>-0.0243497593</td><td> 0.065531303</td><td> 0.27284594</td><td>0.004087194</td><td> 0.087327453</td><td> 0.000260759</td><td> 0.026814671</td><td>⋯</td><td> 0.04394460</td><td> 0.04589647</td><td>0.12565560</td><td>-0.1422115</td><td>-0.2780725</td><td>-0.2160917</td><td>-0.36656390</td><td>-0.2772059</td><td>-0.2773310</td><td>0.084891713</td></tr>\n",
       "\t<tr><td>0.006306247</td><td> 0.04610342</td><td> 0.04608989</td><td> 0.0453394079</td><td>-0.001037389</td><td> 0.08804828</td><td>0.005107035</td><td>-0.001861331</td><td>-0.024274862</td><td> 0.003512238</td><td>⋯</td><td> 0.07807445</td><td> 0.04952388</td><td>0.07640717</td><td>-0.1737625</td><td>-0.2281987</td><td>-0.2285583</td><td>-0.32628437</td><td>-0.2292424</td><td>-0.2288463</td><td>0.002685164</td></tr>\n",
       "\t<tr><td>0.034625245</td><td> 0.02298545</td><td> 0.02297873</td><td> 0.0227892371</td><td> 0.107925077</td><td> 0.26259253</td><td>0.071271209</td><td> 0.089019804</td><td> 0.003396214</td><td>-0.029006753</td><td>⋯</td><td> 0.03108810</td><td> 0.05499812</td><td>0.08988806</td><td>-0.1460290</td><td>-0.2685768</td><td>-0.2405880</td><td>-0.04458508</td><td>-0.2707409</td><td>-0.2700401</td><td>0.106916845</td></tr>\n",
       "</tbody>\n",
       "</table>\n"
      ],
      "text/latex": [
       "A matrix: 6 × 205 of type dbl\n",
       "\\begin{tabular}{lllllllllllllllllllll}\n",
       " inflation & New domestic autos & New foreign autos & New light trucks & Net transactions in used autos & Used auto margin & Employee reimbursement & Used light trucks & Tires & Accessories and parts & ⋯ & Nonprofit hospitals services to households & Nonprofit nursing homes services to households & Recreation services to households & Education services to households & Social services to households & Religious organizations' services to households & Foundations and grantmaking and giving services to households & Services of social advocacy establishments to households & Civic and social organizations' services to households & Professional advocacy services to households\\\\\n",
       "\\hline\n",
       "\t          NA &          NA &          NA &            NA &           NA &          NA &          NA &           NA &           NA &           NA & ⋯ &          NA &          NA &         NA &         NA &         NA &         NA &          NA &         NA &         NA &          NA\\\\\n",
       "\t 0.011864352 &  0.00000000 &  0.00000000 & -0.0007398958 &  0.102295180 &  0.18317335 & 0.077363056 &  0.091356508 & -0.021099937 & -0.025997403 & ⋯ &  0.00000000 &  0.09992051 & 0.08441397 & -0.1466413 & -0.3197703 & -0.2403771 & -0.26360020 & -0.3202298 & -0.3202764 & 0.065499367\\\\\n",
       "\t 0.007903056 &  0.04619215 &  0.04617857 &  0.0454189326 &  0.143224207 & -0.09242664 & 0.072780303 &  0.135275102 & -0.001825194 &  0.028197986 & ⋯ & -0.04394460 & -0.01531834 & 0.10051914 & -0.1733776 & -0.2472346 & -0.2032053 & -0.11411978 & -0.2469306 & -0.2470794 & 0.075966792\\\\\n",
       "\t 0.023677987 & -0.02307385 & -0.02306707 & -0.0243497593 &  0.065531303 &  0.27284594 & 0.004087194 &  0.087327453 &  0.000260759 &  0.026814671 & ⋯ &  0.04394460 &  0.04589647 & 0.12565560 & -0.1422115 & -0.2780725 & -0.2160917 & -0.36656390 & -0.2772059 & -0.2773310 & 0.084891713\\\\\n",
       "\t 0.006306247 &  0.04610342 &  0.04608989 &  0.0453394079 & -0.001037389 &  0.08804828 & 0.005107035 & -0.001861331 & -0.024274862 &  0.003512238 & ⋯ &  0.07807445 &  0.04952388 & 0.07640717 & -0.1737625 & -0.2281987 & -0.2285583 & -0.32628437 & -0.2292424 & -0.2288463 & 0.002685164\\\\\n",
       "\t 0.034625245 &  0.02298545 &  0.02297873 &  0.0227892371 &  0.107925077 &  0.26259253 & 0.071271209 &  0.089019804 &  0.003396214 & -0.029006753 & ⋯ &  0.03108810 &  0.05499812 & 0.08988806 & -0.1460290 & -0.2685768 & -0.2405880 & -0.04458508 & -0.2707409 & -0.2700401 & 0.106916845\\\\\n",
       "\\end{tabular}\n"
      ],
      "text/markdown": [
       "\n",
       "A matrix: 6 × 205 of type dbl\n",
       "\n",
       "| inflation | New domestic autos | New foreign autos | New light trucks | Net transactions in used autos | Used auto margin | Employee reimbursement | Used light trucks | Tires | Accessories and parts | ⋯ | Nonprofit hospitals services to households | Nonprofit nursing homes services to households | Recreation services to households | Education services to households | Social services to households | Religious organizations' services to households | Foundations and grantmaking and giving services to households | Services of social advocacy establishments to households | Civic and social organizations' services to households | Professional advocacy services to households |\n",
       "|---|---|---|---|---|---|---|---|---|---|---|---|---|---|---|---|---|---|---|---|---|\n",
       "|          NA |          NA |          NA |            NA |           NA |          NA |          NA |           NA |           NA |           NA | ⋯ |          NA |          NA |         NA |         NA |         NA |         NA |          NA |         NA |         NA |          NA |\n",
       "| 0.011864352 |  0.00000000 |  0.00000000 | -0.0007398958 |  0.102295180 |  0.18317335 | 0.077363056 |  0.091356508 | -0.021099937 | -0.025997403 | ⋯ |  0.00000000 |  0.09992051 | 0.08441397 | -0.1466413 | -0.3197703 | -0.2403771 | -0.26360020 | -0.3202298 | -0.3202764 | 0.065499367 |\n",
       "| 0.007903056 |  0.04619215 |  0.04617857 |  0.0454189326 |  0.143224207 | -0.09242664 | 0.072780303 |  0.135275102 | -0.001825194 |  0.028197986 | ⋯ | -0.04394460 | -0.01531834 | 0.10051914 | -0.1733776 | -0.2472346 | -0.2032053 | -0.11411978 | -0.2469306 | -0.2470794 | 0.075966792 |\n",
       "| 0.023677987 | -0.02307385 | -0.02306707 | -0.0243497593 |  0.065531303 |  0.27284594 | 0.004087194 |  0.087327453 |  0.000260759 |  0.026814671 | ⋯ |  0.04394460 |  0.04589647 | 0.12565560 | -0.1422115 | -0.2780725 | -0.2160917 | -0.36656390 | -0.2772059 | -0.2773310 | 0.084891713 |\n",
       "| 0.006306247 |  0.04610342 |  0.04608989 |  0.0453394079 | -0.001037389 |  0.08804828 | 0.005107035 | -0.001861331 | -0.024274862 |  0.003512238 | ⋯ |  0.07807445 |  0.04952388 | 0.07640717 | -0.1737625 | -0.2281987 | -0.2285583 | -0.32628437 | -0.2292424 | -0.2288463 | 0.002685164 |\n",
       "| 0.034625245 |  0.02298545 |  0.02297873 |  0.0227892371 |  0.107925077 |  0.26259253 | 0.071271209 |  0.089019804 |  0.003396214 | -0.029006753 | ⋯ |  0.03108810 |  0.05499812 | 0.08988806 | -0.1460290 | -0.2685768 | -0.2405880 | -0.04458508 | -0.2707409 | -0.2700401 | 0.106916845 |\n",
       "\n"
      ],
      "text/plain": [
       "     inflation   New domestic autos New foreign autos New light trucks\n",
       "[1,]          NA          NA                 NA                  NA   \n",
       "[2,] 0.011864352  0.00000000         0.00000000       -0.0007398958   \n",
       "[3,] 0.007903056  0.04619215         0.04617857        0.0454189326   \n",
       "[4,] 0.023677987 -0.02307385        -0.02306707       -0.0243497593   \n",
       "[5,] 0.006306247  0.04610342         0.04608989        0.0453394079   \n",
       "[6,] 0.034625245  0.02298545         0.02297873        0.0227892371   \n",
       "     Net transactions in used autos Used auto margin Employee reimbursement\n",
       "[1,]           NA                            NA               NA           \n",
       "[2,]  0.102295180                    0.18317335      0.077363056           \n",
       "[3,]  0.143224207                   -0.09242664      0.072780303           \n",
       "[4,]  0.065531303                    0.27284594      0.004087194           \n",
       "[5,] -0.001037389                    0.08804828      0.005107035           \n",
       "[6,]  0.107925077                    0.26259253      0.071271209           \n",
       "     Used light trucks Tires        Accessories and parts ⋯\n",
       "[1,]           NA                NA           NA          ⋯\n",
       "[2,]  0.091356508      -0.021099937 -0.025997403          ⋯\n",
       "[3,]  0.135275102      -0.001825194  0.028197986          ⋯\n",
       "[4,]  0.087327453       0.000260759  0.026814671          ⋯\n",
       "[5,] -0.001861331      -0.024274862  0.003512238          ⋯\n",
       "[6,]  0.089019804       0.003396214 -0.029006753          ⋯\n",
       "     Nonprofit hospitals services to households\n",
       "[1,]          NA                               \n",
       "[2,]  0.00000000                               \n",
       "[3,] -0.04394460                               \n",
       "[4,]  0.04394460                               \n",
       "[5,]  0.07807445                               \n",
       "[6,]  0.03108810                               \n",
       "     Nonprofit nursing homes services to households\n",
       "[1,]          NA                                   \n",
       "[2,]  0.09992051                                   \n",
       "[3,] -0.01531834                                   \n",
       "[4,]  0.04589647                                   \n",
       "[5,]  0.04952388                                   \n",
       "[6,]  0.05499812                                   \n",
       "     Recreation services to households Education services to households\n",
       "[1,]         NA                                NA                      \n",
       "[2,] 0.08441397                        -0.1466413                      \n",
       "[3,] 0.10051914                        -0.1733776                      \n",
       "[4,] 0.12565560                        -0.1422115                      \n",
       "[5,] 0.07640717                        -0.1737625                      \n",
       "[6,] 0.08988806                        -0.1460290                      \n",
       "     Social services to households\n",
       "[1,]         NA                   \n",
       "[2,] -0.3197703                   \n",
       "[3,] -0.2472346                   \n",
       "[4,] -0.2780725                   \n",
       "[5,] -0.2281987                   \n",
       "[6,] -0.2685768                   \n",
       "     Religious organizations' services to households\n",
       "[1,]         NA                                     \n",
       "[2,] -0.2403771                                     \n",
       "[3,] -0.2032053                                     \n",
       "[4,] -0.2160917                                     \n",
       "[5,] -0.2285583                                     \n",
       "[6,] -0.2405880                                     \n",
       "     Foundations and grantmaking and giving services to households\n",
       "[1,]          NA                                                  \n",
       "[2,] -0.26360020                                                  \n",
       "[3,] -0.11411978                                                  \n",
       "[4,] -0.36656390                                                  \n",
       "[5,] -0.32628437                                                  \n",
       "[6,] -0.04458508                                                  \n",
       "     Services of social advocacy establishments to households\n",
       "[1,]         NA                                              \n",
       "[2,] -0.3202298                                              \n",
       "[3,] -0.2469306                                              \n",
       "[4,] -0.2772059                                              \n",
       "[5,] -0.2292424                                              \n",
       "[6,] -0.2707409                                              \n",
       "     Civic and social organizations' services to households\n",
       "[1,]         NA                                            \n",
       "[2,] -0.3202764                                            \n",
       "[3,] -0.2470794                                            \n",
       "[4,] -0.2773310                                            \n",
       "[5,] -0.2288463                                            \n",
       "[6,] -0.2700401                                            \n",
       "     Professional advocacy services to households\n",
       "[1,]          NA                                 \n",
       "[2,] 0.065499367                                 \n",
       "[3,] 0.075966792                                 \n",
       "[4,] 0.084891713                                 \n",
       "[5,] 0.002685164                                 \n",
       "[6,] 0.106916845                                 "
      ]
     },
     "metadata": {},
     "output_type": "display_data"
    }
   ],
   "source": [
    "head(data_ts) # 查看数据集的前几行"
   ]
  },
  {
   "cell_type": "code",
   "execution_count": 7,
   "metadata": {
    "vscode": {
     "languageId": "r"
    }
   },
   "outputs": [],
   "source": [
    "# 将数据分成训练集和验证集\n",
    "train_data <- data_ts[2:720, ]\n",
    "valid_data <- data_ts[721:732, ]"
   ]
  },
  {
   "cell_type": "markdown",
   "metadata": {},
   "source": [
    "AR(p)模型的定义为:$y_t = c + \\phi_1 y_{t-1} + \\phi_2 y_{t-2} + ... + \\phi_p y_{t-p} + \\varepsilon_t$\n",
    "\n",
    "其中,$y_t$是t时刻的值,$\\varepsilon_t$是白噪声,$p$为模型阶数。  "
   ]
  },
  {
   "cell_type": "code",
   "execution_count": 8,
   "metadata": {
    "vscode": {
     "languageId": "r"
    }
   },
   "outputs": [],
   "source": [
    "# 一个月预测AR(1)模型\n",
    "ar1_model <- arima(train_data[, 1], order = c(1, 0, 0), include.mean = TRUE)"
   ]
  },
  {
   "cell_type": "code",
   "execution_count": 9,
   "metadata": {
    "vscode": {
     "languageId": "r"
    }
   },
   "outputs": [],
   "source": [
    "# 三个月预测AR(3)模型 \n",
    "ar3_model <- arima(train_data[, 1], order = c(3, 0, 0), include.mean = TRUE)"
   ]
  },
  {
   "cell_type": "code",
   "execution_count": 10,
   "metadata": {
    "vscode": {
     "languageId": "r"
    }
   },
   "outputs": [],
   "source": [
    "# 十二个月预测AR(12)模型\n",
    "ar12_model <- arima(train_data[, 1], order = c(12, 0, 0), include.mean = TRUE)"
   ]
  },
  {
   "cell_type": "code",
   "execution_count": 11,
   "metadata": {
    "vscode": {
     "languageId": "r"
    }
   },
   "outputs": [
    {
     "name": "stdout",
     "output_type": "stream",
     "text": [
      "AR(1) model: MSE = 0.000273208 , MAE = 0.01384895 \n",
      "AR(3) model: MSE = 0.000148023 , MAE = 0.0106802 \n",
      "AR(12) model: MSE = 0.0001934259 , MAE = 0.01390776 \n"
     ]
    }
   ],
   "source": [
    "# 一个月预测\n",
    "ar1_pred <- predict(ar1_model, n.ahead = 12)$pred\n",
    "mse1 <- mean((valid_data[, 1] - ar1_pred)^2)\n",
    "mae1 <- mean(abs(valid_data[, 1] - ar1_pred))\n",
    "\n",
    "# 三个月预测\n",
    "ar3_pred <- predict(ar3_model, n.ahead = 12)$pred[seq(3, 12, 3)]  \n",
    "mse3 <- mean((valid_data[seq(3, 12, 3), 1] - ar3_pred)^2)\n",
    "mae3 <- mean(abs(valid_data[seq(3, 12, 3), 1] - ar3_pred))\n",
    "\n",
    "# 十二个月预测\n",
    "ar12_pred <- predict(ar12_model, n.ahead = 12)$pred[12]\n",
    "mse12 <- (valid_data[12, 1] - ar12_pred)^2\n",
    "mae12 <- abs(valid_data[12, 1] - ar12_pred)\n",
    "\n",
    "# 输出三个模型的MSE和MAE\n",
    "cat(\"AR(1) model: MSE =\", mse1, \", MAE =\", mae1, \"\\n\")\n",
    "cat(\"AR(3) model: MSE =\", mse3, \", MAE =\", mae3, \"\\n\") \n",
    "cat(\"AR(12) model: MSE =\", mse12, \", MAE =\", mae12, \"\\n\")"
   ]
  },
  {
   "cell_type": "code",
   "execution_count": 12,
   "metadata": {
    "vscode": {
     "languageId": "r"
    }
   },
   "outputs": [
    {
     "name": "stdout",
     "output_type": "stream",
     "text": [
      "Predicted inflation rates for month 733 to 782:\n",
      "Time Series:\n",
      "Start = 720 \n",
      "End = 769 \n",
      "Frequency = 1 \n",
      " [1] 0.01480017 0.01593754 0.01772087 0.01989810 0.02143530 0.02274715\n",
      " [7] 0.02395589 0.02498354 0.02586429 0.02663283 0.02729782 0.02787222\n",
      "[13] 0.02836976 0.02880049 0.02917319 0.02949578 0.02977500 0.03001666\n",
      "[19] 0.03022582 0.03040685 0.03056354 0.03069915 0.03081653 0.03091812\n",
      "[25] 0.03100605 0.03108215 0.03114802 0.03120503 0.03125437 0.03129707\n",
      "[31] 0.03133404 0.03136603 0.03139372 0.03141768 0.03143843 0.03145638\n",
      "[37] 0.03147192 0.03148537 0.03149701 0.03150708 0.03151580 0.03152335\n",
      "[43] 0.03152988 0.03153553 0.03154043 0.03154466 0.03154833 0.03155150\n",
      "[49] 0.03155425 0.03155662\n"
     ]
    }
   ],
   "source": [
    "# 举例子，用AR（3）模型来预测733月到782月的数据\n",
    "final_pred <- predict(ar3_model, n.ahead = 50)$pred\n",
    "cat(\"Predicted inflation rates for month 733 to 782:\\n\")\n",
    "print(final_pred)"
   ]
  }
 ],
 "metadata": {
  "kernelspec": {
   "display_name": "R",
   "language": "R",
   "name": "ir"
  },
  "language_info": {
   "codemirror_mode": "r",
   "file_extension": ".r",
   "mimetype": "text/x-r-source",
   "name": "R",
   "pygments_lexer": "r",
   "version": "4.3.3"
  }
 },
 "nbformat": 4,
 "nbformat_minor": 2
}
